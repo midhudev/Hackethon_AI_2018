{
 "cells": [
  {
   "cell_type": "code",
   "execution_count": 1,
   "metadata": {
    "collapsed": true
   },
   "outputs": [],
   "source": [
    "import pandas as pd\n",
    "import numpy as np\n",
    "%matplotlib inline\n",
    "from sklearn.preprocessing import LabelEncoder\n",
    "le = LabelEncoder()"
   ]
  },
  {
   "cell_type": "code",
   "execution_count": 2,
   "metadata": {
    "collapsed": true
   },
   "outputs": [],
   "source": [
    "train = pd.read_csv(\"train/train.csv\")\n",
    "train_h_log = pd.read_csv(\"train/historical_user_logs.csv\")"
   ]
  },
  {
   "cell_type": "code",
   "execution_count": 3,
   "metadata": {
    "collapsed": true
   },
   "outputs": [],
   "source": [
    "test = pd.read_csv(\"test/test.csv\")"
   ]
  },
  {
   "cell_type": "code",
   "execution_count": 4,
   "metadata": {},
   "outputs": [
    {
     "data": {
      "text/plain": [
       "128858"
      ]
     },
     "execution_count": 4,
     "metadata": {},
     "output_type": "execute_result"
    }
   ],
   "source": [
    "len(test)"
   ]
  },
  {
   "cell_type": "code",
   "execution_count": null,
   "metadata": {},
   "outputs": [],
   "source": [
    "train['source']= 'train'\n",
    "test['source'] = 'test'\n",
    "data=pd.concat([train, test],ignore_index=True)\n",
    "data.shape"
   ]
  },
  {
   "cell_type": "code",
   "execution_count": 6,
   "metadata": {},
   "outputs": [
    {
     "data": {
      "text/plain": [
       "Index(['DateTime', 'age_level', 'campaign_id', 'city_development_index',\n",
       "       'gender', 'is_click', 'product', 'product_category_1',\n",
       "       'product_category_2', 'session_id', 'source', 'user_depth',\n",
       "       'user_group_id', 'user_id', 'var_1', 'webpage_id'],\n",
       "      dtype='object')"
      ]
     },
     "execution_count": 6,
     "metadata": {},
     "output_type": "execute_result"
    }
   ],
   "source": [
    "data.columns"
   ]
  },
  {
   "cell_type": "code",
   "execution_count": null,
   "metadata": {
    "collapsed": true
   },
   "outputs": [],
   "source": []
  },
  {
   "cell_type": "code",
   "execution_count": 7,
   "metadata": {},
   "outputs": [
    {
     "data": {
      "text/plain": [
       "((463291, 16), (128858, 15))"
      ]
     },
     "execution_count": 7,
     "metadata": {},
     "output_type": "execute_result"
    }
   ],
   "source": [
    "train.shape,test.shape"
   ]
  },
  {
   "cell_type": "code",
   "execution_count": null,
   "metadata": {},
   "outputs": [],
   "source": [
    "train_h_log['product'].value_counts()"
   ]
  },
  {
   "cell_type": "code",
   "execution_count": null,
   "metadata": {},
   "outputs": [],
   "source": [
    "data['product'].value_counts()"
   ]
  },
  {
   "cell_type": "code",
   "execution_count": null,
   "metadata": {},
   "outputs": [],
   "source": [
    "for col in data.columns:\n",
    "    print(\"col name :\",col)\n",
    "    print(data[col].value_counts())"
   ]
  },
  {
   "cell_type": "code",
   "execution_count": null,
   "metadata": {
    "collapsed": true,
    "scrolled": true
   },
   "outputs": [],
   "source": []
  },
  {
   "cell_type": "code",
   "execution_count": 11,
   "metadata": {},
   "outputs": [
    {
     "data": {
      "text/plain": [
       "DateTime                       0\n",
       "age_level                  23927\n",
       "campaign_id                    0\n",
       "city_development_index    159738\n",
       "gender                     23927\n",
       "is_click                  128858\n",
       "product                        0\n",
       "product_category_1             0\n",
       "product_category_2        442025\n",
       "session_id                     0\n",
       "source                         0\n",
       "user_depth                 23927\n",
       "user_group_id              23927\n",
       "user_id                        0\n",
       "var_1                          0\n",
       "webpage_id                     0\n",
       "dtype: int64"
      ]
     },
     "execution_count": 11,
     "metadata": {},
     "output_type": "execute_result"
    }
   ],
   "source": [
    "data.apply(lambda x: sum(x.isnull()))"
   ]
  },
  {
   "cell_type": "code",
   "execution_count": 12,
   "metadata": {
    "collapsed": true
   },
   "outputs": [],
   "source": [
    "data['age_level'].fillna(data['age_level'].median(),inplace=True)"
   ]
  },
  {
   "cell_type": "code",
   "execution_count": 13,
   "metadata": {
    "collapsed": true
   },
   "outputs": [],
   "source": [
    "data['city_development_index'].fillna(data['city_development_index'].median(),inplace=True)\n",
    "data['gender'] = le.fit_transform(data['gender'].astype(str))"
   ]
  },
  {
   "cell_type": "code",
   "execution_count": 14,
   "metadata": {
    "collapsed": true
   },
   "outputs": [],
   "source": [
    "data['gender'].fillna(data['gender'].median(),inplace=True)"
   ]
  },
  {
   "cell_type": "code",
   "execution_count": 15,
   "metadata": {
    "collapsed": true
   },
   "outputs": [],
   "source": [
    "data.drop('product_category_2',inplace=True,axis=1)"
   ]
  },
  {
   "cell_type": "code",
   "execution_count": 16,
   "metadata": {
    "collapsed": true
   },
   "outputs": [],
   "source": [
    "# data = data[np.isfinite(data['user_id'])]\n",
    "# data = data[np.isfinite(data['user_depth'])]\n",
    "\n",
    "data['user_id'] = data['user_id'].fillna(0)\n",
    "data['user_depth'] = data['user_depth'].fillna(0)\n",
    "data['user_group_id'].fillna(data['user_group_id'].median(),inplace=True)"
   ]
  },
  {
   "cell_type": "code",
   "execution_count": 17,
   "metadata": {
    "scrolled": true
   },
   "outputs": [
    {
     "data": {
      "text/plain": [
       "DateTime                       0\n",
       "age_level                      0\n",
       "campaign_id                    0\n",
       "city_development_index         0\n",
       "gender                         0\n",
       "is_click                  128858\n",
       "product                        0\n",
       "product_category_1             0\n",
       "session_id                     0\n",
       "source                         0\n",
       "user_depth                     0\n",
       "user_group_id                  0\n",
       "user_id                        0\n",
       "var_1                          0\n",
       "webpage_id                     0\n",
       "dtype: int64"
      ]
     },
     "execution_count": 17,
     "metadata": {},
     "output_type": "execute_result"
    }
   ],
   "source": [
    "data.apply(lambda x: sum(x.isnull()))"
   ]
  },
  {
   "cell_type": "code",
   "execution_count": 18,
   "metadata": {},
   "outputs": [
    {
     "data": {
      "text/html": [
       "<div>\n",
       "<style scoped>\n",
       "    .dataframe tbody tr th:only-of-type {\n",
       "        vertical-align: middle;\n",
       "    }\n",
       "\n",
       "    .dataframe tbody tr th {\n",
       "        vertical-align: top;\n",
       "    }\n",
       "\n",
       "    .dataframe thead th {\n",
       "        text-align: right;\n",
       "    }\n",
       "</style>\n",
       "<table border=\"1\" class=\"dataframe\">\n",
       "  <thead>\n",
       "    <tr style=\"text-align: right;\">\n",
       "      <th></th>\n",
       "      <th>DateTime</th>\n",
       "      <th>age_level</th>\n",
       "      <th>campaign_id</th>\n",
       "      <th>city_development_index</th>\n",
       "      <th>gender</th>\n",
       "      <th>is_click</th>\n",
       "      <th>product</th>\n",
       "      <th>product_category_1</th>\n",
       "      <th>session_id</th>\n",
       "      <th>source</th>\n",
       "      <th>user_depth</th>\n",
       "      <th>user_group_id</th>\n",
       "      <th>user_id</th>\n",
       "      <th>var_1</th>\n",
       "      <th>webpage_id</th>\n",
       "    </tr>\n",
       "  </thead>\n",
       "  <tbody>\n",
       "    <tr>\n",
       "      <th>0</th>\n",
       "      <td>2017-07-02 00:00</td>\n",
       "      <td>4.0</td>\n",
       "      <td>359520</td>\n",
       "      <td>3.0</td>\n",
       "      <td>0</td>\n",
       "      <td>0.0</td>\n",
       "      <td>C</td>\n",
       "      <td>4</td>\n",
       "      <td>140690</td>\n",
       "      <td>train</td>\n",
       "      <td>3.0</td>\n",
       "      <td>10.0</td>\n",
       "      <td>858557</td>\n",
       "      <td>0</td>\n",
       "      <td>13787</td>\n",
       "    </tr>\n",
       "    <tr>\n",
       "      <th>1</th>\n",
       "      <td>2017-07-02 00:00</td>\n",
       "      <td>2.0</td>\n",
       "      <td>105960</td>\n",
       "      <td>2.0</td>\n",
       "      <td>0</td>\n",
       "      <td>0.0</td>\n",
       "      <td>C</td>\n",
       "      <td>5</td>\n",
       "      <td>333291</td>\n",
       "      <td>train</td>\n",
       "      <td>2.0</td>\n",
       "      <td>8.0</td>\n",
       "      <td>243253</td>\n",
       "      <td>0</td>\n",
       "      <td>11085</td>\n",
       "    </tr>\n",
       "    <tr>\n",
       "      <th>2</th>\n",
       "      <td>2017-07-02 00:00</td>\n",
       "      <td>2.0</td>\n",
       "      <td>359520</td>\n",
       "      <td>2.0</td>\n",
       "      <td>0</td>\n",
       "      <td>0.0</td>\n",
       "      <td>C</td>\n",
       "      <td>4</td>\n",
       "      <td>129781</td>\n",
       "      <td>train</td>\n",
       "      <td>2.0</td>\n",
       "      <td>8.0</td>\n",
       "      <td>243253</td>\n",
       "      <td>0</td>\n",
       "      <td>13787</td>\n",
       "    </tr>\n",
       "    <tr>\n",
       "      <th>3</th>\n",
       "      <td>2017-07-02 00:00</td>\n",
       "      <td>3.0</td>\n",
       "      <td>359520</td>\n",
       "      <td>2.0</td>\n",
       "      <td>1</td>\n",
       "      <td>0.0</td>\n",
       "      <td>I</td>\n",
       "      <td>3</td>\n",
       "      <td>464848</td>\n",
       "      <td>train</td>\n",
       "      <td>3.0</td>\n",
       "      <td>3.0</td>\n",
       "      <td>1097446</td>\n",
       "      <td>1</td>\n",
       "      <td>13787</td>\n",
       "    </tr>\n",
       "    <tr>\n",
       "      <th>4</th>\n",
       "      <td>2017-07-02 00:01</td>\n",
       "      <td>2.0</td>\n",
       "      <td>405490</td>\n",
       "      <td>2.0</td>\n",
       "      <td>1</td>\n",
       "      <td>0.0</td>\n",
       "      <td>C</td>\n",
       "      <td>3</td>\n",
       "      <td>90569</td>\n",
       "      <td>train</td>\n",
       "      <td>3.0</td>\n",
       "      <td>2.0</td>\n",
       "      <td>663656</td>\n",
       "      <td>1</td>\n",
       "      <td>60305</td>\n",
       "    </tr>\n",
       "    <tr>\n",
       "      <th>5</th>\n",
       "      <td>2017-07-02 00:01</td>\n",
       "      <td>1.0</td>\n",
       "      <td>359520</td>\n",
       "      <td>2.0</td>\n",
       "      <td>1</td>\n",
       "      <td>0.0</td>\n",
       "      <td>I</td>\n",
       "      <td>2</td>\n",
       "      <td>151475</td>\n",
       "      <td>train</td>\n",
       "      <td>3.0</td>\n",
       "      <td>1.0</td>\n",
       "      <td>509591</td>\n",
       "      <td>0</td>\n",
       "      <td>13787</td>\n",
       "    </tr>\n",
       "    <tr>\n",
       "      <th>6</th>\n",
       "      <td>2017-07-02 00:01</td>\n",
       "      <td>3.0</td>\n",
       "      <td>405490</td>\n",
       "      <td>4.0</td>\n",
       "      <td>0</td>\n",
       "      <td>0.0</td>\n",
       "      <td>F</td>\n",
       "      <td>3</td>\n",
       "      <td>17583</td>\n",
       "      <td>train</td>\n",
       "      <td>3.0</td>\n",
       "      <td>9.0</td>\n",
       "      <td>1091463</td>\n",
       "      <td>0</td>\n",
       "      <td>60305</td>\n",
       "    </tr>\n",
       "    <tr>\n",
       "      <th>7</th>\n",
       "      <td>2017-07-02 00:01</td>\n",
       "      <td>4.0</td>\n",
       "      <td>360936</td>\n",
       "      <td>4.0</td>\n",
       "      <td>1</td>\n",
       "      <td>0.0</td>\n",
       "      <td>C</td>\n",
       "      <td>3</td>\n",
       "      <td>461128</td>\n",
       "      <td>train</td>\n",
       "      <td>3.0</td>\n",
       "      <td>4.0</td>\n",
       "      <td>469098</td>\n",
       "      <td>0</td>\n",
       "      <td>13787</td>\n",
       "    </tr>\n",
       "    <tr>\n",
       "      <th>8</th>\n",
       "      <td>2017-07-02 00:02</td>\n",
       "      <td>3.0</td>\n",
       "      <td>105960</td>\n",
       "      <td>2.0</td>\n",
       "      <td>2</td>\n",
       "      <td>0.0</td>\n",
       "      <td>H</td>\n",
       "      <td>5</td>\n",
       "      <td>390699</td>\n",
       "      <td>train</td>\n",
       "      <td>0.0</td>\n",
       "      <td>3.0</td>\n",
       "      <td>611906</td>\n",
       "      <td>0</td>\n",
       "      <td>11085</td>\n",
       "    </tr>\n",
       "    <tr>\n",
       "      <th>9</th>\n",
       "      <td>2017-07-02 00:02</td>\n",
       "      <td>4.0</td>\n",
       "      <td>360936</td>\n",
       "      <td>4.0</td>\n",
       "      <td>1</td>\n",
       "      <td>0.0</td>\n",
       "      <td>B</td>\n",
       "      <td>2</td>\n",
       "      <td>353607</td>\n",
       "      <td>train</td>\n",
       "      <td>3.0</td>\n",
       "      <td>4.0</td>\n",
       "      <td>418107</td>\n",
       "      <td>0</td>\n",
       "      <td>13787</td>\n",
       "    </tr>\n",
       "  </tbody>\n",
       "</table>\n",
       "</div>"
      ],
      "text/plain": [
       "           DateTime  age_level  campaign_id  city_development_index  gender  \\\n",
       "0  2017-07-02 00:00        4.0       359520                     3.0       0   \n",
       "1  2017-07-02 00:00        2.0       105960                     2.0       0   \n",
       "2  2017-07-02 00:00        2.0       359520                     2.0       0   \n",
       "3  2017-07-02 00:00        3.0       359520                     2.0       1   \n",
       "4  2017-07-02 00:01        2.0       405490                     2.0       1   \n",
       "5  2017-07-02 00:01        1.0       359520                     2.0       1   \n",
       "6  2017-07-02 00:01        3.0       405490                     4.0       0   \n",
       "7  2017-07-02 00:01        4.0       360936                     4.0       1   \n",
       "8  2017-07-02 00:02        3.0       105960                     2.0       2   \n",
       "9  2017-07-02 00:02        4.0       360936                     4.0       1   \n",
       "\n",
       "   is_click product  product_category_1  session_id source  user_depth  \\\n",
       "0       0.0       C                   4      140690  train         3.0   \n",
       "1       0.0       C                   5      333291  train         2.0   \n",
       "2       0.0       C                   4      129781  train         2.0   \n",
       "3       0.0       I                   3      464848  train         3.0   \n",
       "4       0.0       C                   3       90569  train         3.0   \n",
       "5       0.0       I                   2      151475  train         3.0   \n",
       "6       0.0       F                   3       17583  train         3.0   \n",
       "7       0.0       C                   3      461128  train         3.0   \n",
       "8       0.0       H                   5      390699  train         0.0   \n",
       "9       0.0       B                   2      353607  train         3.0   \n",
       "\n",
       "   user_group_id  user_id  var_1  webpage_id  \n",
       "0           10.0   858557      0       13787  \n",
       "1            8.0   243253      0       11085  \n",
       "2            8.0   243253      0       13787  \n",
       "3            3.0  1097446      1       13787  \n",
       "4            2.0   663656      1       60305  \n",
       "5            1.0   509591      0       13787  \n",
       "6            9.0  1091463      0       60305  \n",
       "7            4.0   469098      0       13787  \n",
       "8            3.0   611906      0       11085  \n",
       "9            4.0   418107      0       13787  "
      ]
     },
     "execution_count": 18,
     "metadata": {},
     "output_type": "execute_result"
    }
   ],
   "source": [
    "data.head(10)"
   ]
  },
  {
   "cell_type": "code",
   "execution_count": 19,
   "metadata": {},
   "outputs": [
    {
     "data": {
      "text/plain": [
       "Index(['DateTime', 'age_level', 'city_development_index', 'is_click',\n",
       "       'session_id', 'source', 'user_depth', 'user_group_id', 'user_id',\n",
       "       'var_1', 'product_0', 'product_1', 'product_2', 'product_3',\n",
       "       'product_4', 'product_5', 'product_6', 'product_7', 'product_8',\n",
       "       'product_9', 'gender_0', 'gender_1', 'gender_2', 'campaign_id_0',\n",
       "       'campaign_id_1', 'campaign_id_2', 'campaign_id_3', 'campaign_id_4',\n",
       "       'campaign_id_5', 'campaign_id_6', 'campaign_id_7', 'campaign_id_8',\n",
       "       'campaign_id_9', 'product_category_1_0', 'product_category_1_1',\n",
       "       'product_category_1_2', 'product_category_1_3', 'product_category_1_4',\n",
       "       'webpage_id_0', 'webpage_id_1', 'webpage_id_2', 'webpage_id_3',\n",
       "       'webpage_id_4', 'webpage_id_5', 'webpage_id_6', 'webpage_id_7',\n",
       "       'webpage_id_8'],\n",
       "      dtype='object')"
      ]
     },
     "execution_count": 19,
     "metadata": {},
     "output_type": "execute_result"
    }
   ],
   "source": [
    "var_to_encode = ['product','gender','campaign_id','product_category_1','webpage_id']\n",
    "for col in var_to_encode:\n",
    "    data[col] = le.fit_transform(data[col])\n",
    "data = pd.get_dummies(data, columns=var_to_encode)\n",
    "data.columns"
   ]
  },
  {
   "cell_type": "code",
   "execution_count": null,
   "metadata": {
    "collapsed": true
   },
   "outputs": [],
   "source": []
  },
  {
   "cell_type": "code",
   "execution_count": null,
   "metadata": {
    "collapsed": true
   },
   "outputs": [],
   "source": []
  },
  {
   "cell_type": "code",
   "execution_count": 20,
   "metadata": {},
   "outputs": [
    {
     "data": {
      "text/html": [
       "<div>\n",
       "<style scoped>\n",
       "    .dataframe tbody tr th:only-of-type {\n",
       "        vertical-align: middle;\n",
       "    }\n",
       "\n",
       "    .dataframe tbody tr th {\n",
       "        vertical-align: top;\n",
       "    }\n",
       "\n",
       "    .dataframe thead th {\n",
       "        text-align: right;\n",
       "    }\n",
       "</style>\n",
       "<table border=\"1\" class=\"dataframe\">\n",
       "  <thead>\n",
       "    <tr style=\"text-align: right;\">\n",
       "      <th></th>\n",
       "      <th>DateTime</th>\n",
       "      <th>user_id</th>\n",
       "      <th>product</th>\n",
       "      <th>action</th>\n",
       "    </tr>\n",
       "  </thead>\n",
       "  <tbody>\n",
       "    <tr>\n",
       "      <th>0</th>\n",
       "      <td>2017-05-28 15:44</td>\n",
       "      <td>704</td>\n",
       "      <td>B</td>\n",
       "      <td>view</td>\n",
       "    </tr>\n",
       "    <tr>\n",
       "      <th>1</th>\n",
       "      <td>2017-05-29 07:08</td>\n",
       "      <td>499679</td>\n",
       "      <td>F</td>\n",
       "      <td>view</td>\n",
       "    </tr>\n",
       "    <tr>\n",
       "      <th>2</th>\n",
       "      <td>2017-05-29 07:10</td>\n",
       "      <td>499679</td>\n",
       "      <td>G</td>\n",
       "      <td>view</td>\n",
       "    </tr>\n",
       "    <tr>\n",
       "      <th>3</th>\n",
       "      <td>2017-05-29 07:10</td>\n",
       "      <td>499679</td>\n",
       "      <td>G</td>\n",
       "      <td>view</td>\n",
       "    </tr>\n",
       "    <tr>\n",
       "      <th>4</th>\n",
       "      <td>2017-05-29 07:10</td>\n",
       "      <td>499679</td>\n",
       "      <td>G</td>\n",
       "      <td>view</td>\n",
       "    </tr>\n",
       "    <tr>\n",
       "      <th>5</th>\n",
       "      <td>2017-05-29 07:10</td>\n",
       "      <td>499679</td>\n",
       "      <td>G</td>\n",
       "      <td>view</td>\n",
       "    </tr>\n",
       "    <tr>\n",
       "      <th>6</th>\n",
       "      <td>2017-05-29 07:10</td>\n",
       "      <td>499679</td>\n",
       "      <td>G</td>\n",
       "      <td>view</td>\n",
       "    </tr>\n",
       "    <tr>\n",
       "      <th>7</th>\n",
       "      <td>2017-05-29 07:10</td>\n",
       "      <td>499679</td>\n",
       "      <td>G</td>\n",
       "      <td>view</td>\n",
       "    </tr>\n",
       "    <tr>\n",
       "      <th>8</th>\n",
       "      <td>2017-05-29 07:10</td>\n",
       "      <td>499679</td>\n",
       "      <td>G</td>\n",
       "      <td>view</td>\n",
       "    </tr>\n",
       "    <tr>\n",
       "      <th>9</th>\n",
       "      <td>2017-05-29 07:11</td>\n",
       "      <td>499679</td>\n",
       "      <td>G</td>\n",
       "      <td>view</td>\n",
       "    </tr>\n",
       "  </tbody>\n",
       "</table>\n",
       "</div>"
      ],
      "text/plain": [
       "           DateTime  user_id product action\n",
       "0  2017-05-28 15:44      704       B   view\n",
       "1  2017-05-29 07:08   499679       F   view\n",
       "2  2017-05-29 07:10   499679       G   view\n",
       "3  2017-05-29 07:10   499679       G   view\n",
       "4  2017-05-29 07:10   499679       G   view\n",
       "5  2017-05-29 07:10   499679       G   view\n",
       "6  2017-05-29 07:10   499679       G   view\n",
       "7  2017-05-29 07:10   499679       G   view\n",
       "8  2017-05-29 07:10   499679       G   view\n",
       "9  2017-05-29 07:11   499679       G   view"
      ]
     },
     "execution_count": 20,
     "metadata": {},
     "output_type": "execute_result"
    }
   ],
   "source": [
    "train_h_log.head(10)"
   ]
  },
  {
   "cell_type": "code",
   "execution_count": 21,
   "metadata": {
    "collapsed": true
   },
   "outputs": [],
   "source": [
    "df_train_h_log = train_h_log"
   ]
  },
  {
   "cell_type": "markdown",
   "metadata": {},
   "source": [
    "##### Process train hlog"
   ]
  },
  {
   "cell_type": "code",
   "execution_count": 22,
   "metadata": {
    "collapsed": true
   },
   "outputs": [],
   "source": [
    "var_to_encode = ['product','action']\n",
    "for col in var_to_encode:\n",
    "    df_train_h_log[col] = le.fit_transform(df_train_h_log[col])"
   ]
  },
  {
   "cell_type": "code",
   "execution_count": 23,
   "metadata": {},
   "outputs": [
    {
     "data": {
      "text/plain": [
       "Index(['DateTime', 'user_id', 'product_0', 'product_1', 'product_2',\n",
       "       'product_3', 'product_4', 'product_5', 'product_6', 'product_7',\n",
       "       'product_8', 'product_9', 'action_0', 'action_1'],\n",
       "      dtype='object')"
      ]
     },
     "execution_count": 23,
     "metadata": {},
     "output_type": "execute_result"
    }
   ],
   "source": [
    "df_train_h_log = pd.get_dummies(df_train_h_log, columns=var_to_encode)\n",
    "df_train_h_log.columns"
   ]
  },
  {
   "cell_type": "code",
   "execution_count": null,
   "metadata": {
    "collapsed": true
   },
   "outputs": [],
   "source": []
  },
  {
   "cell_type": "code",
   "execution_count": 24,
   "metadata": {},
   "outputs": [
    {
     "data": {
      "text/html": [
       "<div>\n",
       "<style scoped>\n",
       "    .dataframe tbody tr th:only-of-type {\n",
       "        vertical-align: middle;\n",
       "    }\n",
       "\n",
       "    .dataframe tbody tr th {\n",
       "        vertical-align: top;\n",
       "    }\n",
       "\n",
       "    .dataframe thead th {\n",
       "        text-align: right;\n",
       "    }\n",
       "</style>\n",
       "<table border=\"1\" class=\"dataframe\">\n",
       "  <thead>\n",
       "    <tr style=\"text-align: right;\">\n",
       "      <th></th>\n",
       "      <th>product_0</th>\n",
       "      <th>product_1</th>\n",
       "      <th>product_2</th>\n",
       "      <th>product_3</th>\n",
       "      <th>product_4</th>\n",
       "      <th>product_5</th>\n",
       "      <th>product_6</th>\n",
       "      <th>product_7</th>\n",
       "      <th>product_8</th>\n",
       "      <th>product_9</th>\n",
       "      <th>action_0</th>\n",
       "      <th>action_1</th>\n",
       "    </tr>\n",
       "    <tr>\n",
       "      <th>user_id</th>\n",
       "      <th></th>\n",
       "      <th></th>\n",
       "      <th></th>\n",
       "      <th></th>\n",
       "      <th></th>\n",
       "      <th></th>\n",
       "      <th></th>\n",
       "      <th></th>\n",
       "      <th></th>\n",
       "      <th></th>\n",
       "      <th></th>\n",
       "      <th></th>\n",
       "    </tr>\n",
       "  </thead>\n",
       "  <tbody>\n",
       "    <tr>\n",
       "      <th>4</th>\n",
       "      <td>3.0</td>\n",
       "      <td>1.0</td>\n",
       "      <td>0.0</td>\n",
       "      <td>0.0</td>\n",
       "      <td>0.0</td>\n",
       "      <td>0.0</td>\n",
       "      <td>0.0</td>\n",
       "      <td>1.0</td>\n",
       "      <td>2.0</td>\n",
       "      <td>0.0</td>\n",
       "      <td>0.0</td>\n",
       "      <td>7.0</td>\n",
       "    </tr>\n",
       "    <tr>\n",
       "      <th>19</th>\n",
       "      <td>14.0</td>\n",
       "      <td>21.0</td>\n",
       "      <td>1.0</td>\n",
       "      <td>53.0</td>\n",
       "      <td>8.0</td>\n",
       "      <td>36.0</td>\n",
       "      <td>19.0</td>\n",
       "      <td>16.0</td>\n",
       "      <td>0.0</td>\n",
       "      <td>0.0</td>\n",
       "      <td>5.0</td>\n",
       "      <td>163.0</td>\n",
       "    </tr>\n",
       "    <tr>\n",
       "      <th>25</th>\n",
       "      <td>8.0</td>\n",
       "      <td>0.0</td>\n",
       "      <td>0.0</td>\n",
       "      <td>0.0</td>\n",
       "      <td>1.0</td>\n",
       "      <td>2.0</td>\n",
       "      <td>42.0</td>\n",
       "      <td>10.0</td>\n",
       "      <td>4.0</td>\n",
       "      <td>0.0</td>\n",
       "      <td>0.0</td>\n",
       "      <td>67.0</td>\n",
       "    </tr>\n",
       "    <tr>\n",
       "      <th>26</th>\n",
       "      <td>0.0</td>\n",
       "      <td>28.0</td>\n",
       "      <td>0.0</td>\n",
       "      <td>0.0</td>\n",
       "      <td>0.0</td>\n",
       "      <td>0.0</td>\n",
       "      <td>0.0</td>\n",
       "      <td>24.0</td>\n",
       "      <td>0.0</td>\n",
       "      <td>0.0</td>\n",
       "      <td>1.0</td>\n",
       "      <td>51.0</td>\n",
       "    </tr>\n",
       "    <tr>\n",
       "      <th>30</th>\n",
       "      <td>2.0</td>\n",
       "      <td>8.0</td>\n",
       "      <td>14.0</td>\n",
       "      <td>2.0</td>\n",
       "      <td>6.0</td>\n",
       "      <td>0.0</td>\n",
       "      <td>1.0</td>\n",
       "      <td>32.0</td>\n",
       "      <td>7.0</td>\n",
       "      <td>0.0</td>\n",
       "      <td>2.0</td>\n",
       "      <td>70.0</td>\n",
       "    </tr>\n",
       "    <tr>\n",
       "      <th>33</th>\n",
       "      <td>11.0</td>\n",
       "      <td>13.0</td>\n",
       "      <td>29.0</td>\n",
       "      <td>17.0</td>\n",
       "      <td>0.0</td>\n",
       "      <td>2.0</td>\n",
       "      <td>9.0</td>\n",
       "      <td>48.0</td>\n",
       "      <td>16.0</td>\n",
       "      <td>0.0</td>\n",
       "      <td>6.0</td>\n",
       "      <td>139.0</td>\n",
       "    </tr>\n",
       "    <tr>\n",
       "      <th>37</th>\n",
       "      <td>22.0</td>\n",
       "      <td>15.0</td>\n",
       "      <td>6.0</td>\n",
       "      <td>21.0</td>\n",
       "      <td>0.0</td>\n",
       "      <td>15.0</td>\n",
       "      <td>0.0</td>\n",
       "      <td>24.0</td>\n",
       "      <td>21.0</td>\n",
       "      <td>0.0</td>\n",
       "      <td>0.0</td>\n",
       "      <td>124.0</td>\n",
       "    </tr>\n",
       "    <tr>\n",
       "      <th>46</th>\n",
       "      <td>0.0</td>\n",
       "      <td>7.0</td>\n",
       "      <td>0.0</td>\n",
       "      <td>0.0</td>\n",
       "      <td>0.0</td>\n",
       "      <td>0.0</td>\n",
       "      <td>0.0</td>\n",
       "      <td>0.0</td>\n",
       "      <td>0.0</td>\n",
       "      <td>0.0</td>\n",
       "      <td>0.0</td>\n",
       "      <td>7.0</td>\n",
       "    </tr>\n",
       "    <tr>\n",
       "      <th>51</th>\n",
       "      <td>5.0</td>\n",
       "      <td>14.0</td>\n",
       "      <td>7.0</td>\n",
       "      <td>16.0</td>\n",
       "      <td>3.0</td>\n",
       "      <td>0.0</td>\n",
       "      <td>8.0</td>\n",
       "      <td>6.0</td>\n",
       "      <td>4.0</td>\n",
       "      <td>0.0</td>\n",
       "      <td>0.0</td>\n",
       "      <td>63.0</td>\n",
       "    </tr>\n",
       "    <tr>\n",
       "      <th>62</th>\n",
       "      <td>38.0</td>\n",
       "      <td>1.0</td>\n",
       "      <td>17.0</td>\n",
       "      <td>22.0</td>\n",
       "      <td>0.0</td>\n",
       "      <td>1.0</td>\n",
       "      <td>1.0</td>\n",
       "      <td>74.0</td>\n",
       "      <td>11.0</td>\n",
       "      <td>0.0</td>\n",
       "      <td>7.0</td>\n",
       "      <td>158.0</td>\n",
       "    </tr>\n",
       "  </tbody>\n",
       "</table>\n",
       "</div>"
      ],
      "text/plain": [
       "         product_0  product_1  product_2  product_3  product_4  product_5  \\\n",
       "user_id                                                                     \n",
       "4              3.0        1.0        0.0        0.0        0.0        0.0   \n",
       "19            14.0       21.0        1.0       53.0        8.0       36.0   \n",
       "25             8.0        0.0        0.0        0.0        1.0        2.0   \n",
       "26             0.0       28.0        0.0        0.0        0.0        0.0   \n",
       "30             2.0        8.0       14.0        2.0        6.0        0.0   \n",
       "33            11.0       13.0       29.0       17.0        0.0        2.0   \n",
       "37            22.0       15.0        6.0       21.0        0.0       15.0   \n",
       "46             0.0        7.0        0.0        0.0        0.0        0.0   \n",
       "51             5.0       14.0        7.0       16.0        3.0        0.0   \n",
       "62            38.0        1.0       17.0       22.0        0.0        1.0   \n",
       "\n",
       "         product_6  product_7  product_8  product_9  action_0  action_1  \n",
       "user_id                                                                  \n",
       "4              0.0        1.0        2.0        0.0       0.0       7.0  \n",
       "19            19.0       16.0        0.0        0.0       5.0     163.0  \n",
       "25            42.0       10.0        4.0        0.0       0.0      67.0  \n",
       "26             0.0       24.0        0.0        0.0       1.0      51.0  \n",
       "30             1.0       32.0        7.0        0.0       2.0      70.0  \n",
       "33             9.0       48.0       16.0        0.0       6.0     139.0  \n",
       "37             0.0       24.0       21.0        0.0       0.0     124.0  \n",
       "46             0.0        0.0        0.0        0.0       0.0       7.0  \n",
       "51             8.0        6.0        4.0        0.0       0.0      63.0  \n",
       "62             1.0       74.0       11.0        0.0       7.0     158.0  "
      ]
     },
     "execution_count": 24,
     "metadata": {},
     "output_type": "execute_result"
    }
   ],
   "source": [
    "df_train_h_log = df_train_h_log.groupby('user_id').agg('sum')\n",
    "df_train_h_log.head(10)"
   ]
  },
  {
   "cell_type": "code",
   "execution_count": null,
   "metadata": {
    "collapsed": true
   },
   "outputs": [],
   "source": []
  },
  {
   "cell_type": "code",
   "execution_count": null,
   "metadata": {
    "collapsed": true
   },
   "outputs": [],
   "source": []
  },
  {
   "cell_type": "code",
   "execution_count": 25,
   "metadata": {},
   "outputs": [
    {
     "data": {
      "text/plain": [
       "(592149, 47)"
      ]
     },
     "execution_count": 25,
     "metadata": {},
     "output_type": "execute_result"
    }
   ],
   "source": [
    "data.shape"
   ]
  },
  {
   "cell_type": "code",
   "execution_count": 26,
   "metadata": {
    "collapsed": true
   },
   "outputs": [],
   "source": [
    "df_train = pd.merge(data,df_train_h_log,how=\"left\",on='user_id')"
   ]
  },
  {
   "cell_type": "code",
   "execution_count": 27,
   "metadata": {},
   "outputs": [
    {
     "data": {
      "text/plain": [
       "(592149, 59)"
      ]
     },
     "execution_count": 27,
     "metadata": {},
     "output_type": "execute_result"
    }
   ],
   "source": [
    "df_train.shape"
   ]
  },
  {
   "cell_type": "code",
   "execution_count": 28,
   "metadata": {},
   "outputs": [
    {
     "data": {
      "text/plain": [
       "Index(['DateTime', 'age_level', 'city_development_index', 'is_click',\n",
       "       'session_id', 'source', 'user_depth', 'user_group_id', 'user_id',\n",
       "       'var_1', 'product_0_x', 'product_1_x', 'product_2_x', 'product_3_x',\n",
       "       'product_4_x', 'product_5_x', 'product_6_x', 'product_7_x',\n",
       "       'product_8_x', 'product_9_x', 'gender_0', 'gender_1', 'gender_2',\n",
       "       'campaign_id_0', 'campaign_id_1', 'campaign_id_2', 'campaign_id_3',\n",
       "       'campaign_id_4', 'campaign_id_5', 'campaign_id_6', 'campaign_id_7',\n",
       "       'campaign_id_8', 'campaign_id_9', 'product_category_1_0',\n",
       "       'product_category_1_1', 'product_category_1_2', 'product_category_1_3',\n",
       "       'product_category_1_4', 'webpage_id_0', 'webpage_id_1', 'webpage_id_2',\n",
       "       'webpage_id_3', 'webpage_id_4', 'webpage_id_5', 'webpage_id_6',\n",
       "       'webpage_id_7', 'webpage_id_8', 'product_0_y', 'product_1_y',\n",
       "       'product_2_y', 'product_3_y', 'product_4_y', 'product_5_y',\n",
       "       'product_6_y', 'product_7_y', 'product_8_y', 'product_9_y', 'action_0',\n",
       "       'action_1'],\n",
       "      dtype='object')"
      ]
     },
     "execution_count": 28,
     "metadata": {},
     "output_type": "execute_result"
    }
   ],
   "source": [
    "df_train.columns"
   ]
  },
  {
   "cell_type": "code",
   "execution_count": null,
   "metadata": {
    "collapsed": true
   },
   "outputs": [],
   "source": []
  },
  {
   "cell_type": "code",
   "execution_count": null,
   "metadata": {
    "collapsed": true
   },
   "outputs": [],
   "source": []
  },
  {
   "cell_type": "code",
   "execution_count": 29,
   "metadata": {
    "collapsed": true
   },
   "outputs": [],
   "source": [
    "# df_train['year'] = [d.year() for d in df_train['DateTime']]\n",
    "df_train['year'] = pd.DatetimeIndex(df_train['DateTime']).year\n",
    "df_train['month'] = pd.DatetimeIndex(df_train['DateTime']).month\n",
    "df_train['day'] = pd.DatetimeIndex(df_train['DateTime']).day"
   ]
  },
  {
   "cell_type": "code",
   "execution_count": 30,
   "metadata": {
    "collapsed": true
   },
   "outputs": [],
   "source": [
    "# var_to_encode = ['year','month','day']\n",
    "# for col in var_to_encode:\n",
    "#     df_train[col] = le.fit_transform(df_train[col])"
   ]
  },
  {
   "cell_type": "code",
   "execution_count": 31,
   "metadata": {
    "collapsed": true
   },
   "outputs": [],
   "source": [
    "df_train.drop('DateTime',inplace=True,axis=1)"
   ]
  },
  {
   "cell_type": "code",
   "execution_count": 32,
   "metadata": {},
   "outputs": [
    {
     "data": {
      "text/html": [
       "<div>\n",
       "<style scoped>\n",
       "    .dataframe tbody tr th:only-of-type {\n",
       "        vertical-align: middle;\n",
       "    }\n",
       "\n",
       "    .dataframe tbody tr th {\n",
       "        vertical-align: top;\n",
       "    }\n",
       "\n",
       "    .dataframe thead th {\n",
       "        text-align: right;\n",
       "    }\n",
       "</style>\n",
       "<table border=\"1\" class=\"dataframe\">\n",
       "  <thead>\n",
       "    <tr style=\"text-align: right;\">\n",
       "      <th></th>\n",
       "      <th>age_level</th>\n",
       "      <th>city_development_index</th>\n",
       "      <th>is_click</th>\n",
       "      <th>session_id</th>\n",
       "      <th>source</th>\n",
       "      <th>user_depth</th>\n",
       "      <th>user_group_id</th>\n",
       "      <th>user_id</th>\n",
       "      <th>var_1</th>\n",
       "      <th>product_0_x</th>\n",
       "      <th>...</th>\n",
       "      <th>product_5_y</th>\n",
       "      <th>product_6_y</th>\n",
       "      <th>product_7_y</th>\n",
       "      <th>product_8_y</th>\n",
       "      <th>product_9_y</th>\n",
       "      <th>action_0</th>\n",
       "      <th>action_1</th>\n",
       "      <th>year</th>\n",
       "      <th>month</th>\n",
       "      <th>day</th>\n",
       "    </tr>\n",
       "  </thead>\n",
       "  <tbody>\n",
       "    <tr>\n",
       "      <th>0</th>\n",
       "      <td>4.0</td>\n",
       "      <td>3.0</td>\n",
       "      <td>0.0</td>\n",
       "      <td>140690</td>\n",
       "      <td>train</td>\n",
       "      <td>3.0</td>\n",
       "      <td>10.0</td>\n",
       "      <td>858557</td>\n",
       "      <td>0</td>\n",
       "      <td>0</td>\n",
       "      <td>...</td>\n",
       "      <td>40.0</td>\n",
       "      <td>10.0</td>\n",
       "      <td>25.0</td>\n",
       "      <td>6.0</td>\n",
       "      <td>0.0</td>\n",
       "      <td>0.0</td>\n",
       "      <td>627.0</td>\n",
       "      <td>2017</td>\n",
       "      <td>7</td>\n",
       "      <td>2</td>\n",
       "    </tr>\n",
       "    <tr>\n",
       "      <th>1</th>\n",
       "      <td>2.0</td>\n",
       "      <td>2.0</td>\n",
       "      <td>0.0</td>\n",
       "      <td>333291</td>\n",
       "      <td>train</td>\n",
       "      <td>2.0</td>\n",
       "      <td>8.0</td>\n",
       "      <td>243253</td>\n",
       "      <td>0</td>\n",
       "      <td>0</td>\n",
       "      <td>...</td>\n",
       "      <td>3.0</td>\n",
       "      <td>1.0</td>\n",
       "      <td>35.0</td>\n",
       "      <td>0.0</td>\n",
       "      <td>0.0</td>\n",
       "      <td>0.0</td>\n",
       "      <td>62.0</td>\n",
       "      <td>2017</td>\n",
       "      <td>7</td>\n",
       "      <td>2</td>\n",
       "    </tr>\n",
       "    <tr>\n",
       "      <th>2</th>\n",
       "      <td>2.0</td>\n",
       "      <td>2.0</td>\n",
       "      <td>0.0</td>\n",
       "      <td>129781</td>\n",
       "      <td>train</td>\n",
       "      <td>2.0</td>\n",
       "      <td>8.0</td>\n",
       "      <td>243253</td>\n",
       "      <td>0</td>\n",
       "      <td>0</td>\n",
       "      <td>...</td>\n",
       "      <td>3.0</td>\n",
       "      <td>1.0</td>\n",
       "      <td>35.0</td>\n",
       "      <td>0.0</td>\n",
       "      <td>0.0</td>\n",
       "      <td>0.0</td>\n",
       "      <td>62.0</td>\n",
       "      <td>2017</td>\n",
       "      <td>7</td>\n",
       "      <td>2</td>\n",
       "    </tr>\n",
       "    <tr>\n",
       "      <th>3</th>\n",
       "      <td>3.0</td>\n",
       "      <td>2.0</td>\n",
       "      <td>0.0</td>\n",
       "      <td>464848</td>\n",
       "      <td>train</td>\n",
       "      <td>3.0</td>\n",
       "      <td>3.0</td>\n",
       "      <td>1097446</td>\n",
       "      <td>1</td>\n",
       "      <td>0</td>\n",
       "      <td>...</td>\n",
       "      <td>0.0</td>\n",
       "      <td>5.0</td>\n",
       "      <td>15.0</td>\n",
       "      <td>9.0</td>\n",
       "      <td>0.0</td>\n",
       "      <td>2.0</td>\n",
       "      <td>41.0</td>\n",
       "      <td>2017</td>\n",
       "      <td>7</td>\n",
       "      <td>2</td>\n",
       "    </tr>\n",
       "    <tr>\n",
       "      <th>4</th>\n",
       "      <td>2.0</td>\n",
       "      <td>2.0</td>\n",
       "      <td>0.0</td>\n",
       "      <td>90569</td>\n",
       "      <td>train</td>\n",
       "      <td>3.0</td>\n",
       "      <td>2.0</td>\n",
       "      <td>663656</td>\n",
       "      <td>1</td>\n",
       "      <td>0</td>\n",
       "      <td>...</td>\n",
       "      <td>3.0</td>\n",
       "      <td>0.0</td>\n",
       "      <td>15.0</td>\n",
       "      <td>2.0</td>\n",
       "      <td>0.0</td>\n",
       "      <td>3.0</td>\n",
       "      <td>57.0</td>\n",
       "      <td>2017</td>\n",
       "      <td>7</td>\n",
       "      <td>2</td>\n",
       "    </tr>\n",
       "    <tr>\n",
       "      <th>5</th>\n",
       "      <td>1.0</td>\n",
       "      <td>2.0</td>\n",
       "      <td>0.0</td>\n",
       "      <td>151475</td>\n",
       "      <td>train</td>\n",
       "      <td>3.0</td>\n",
       "      <td>1.0</td>\n",
       "      <td>509591</td>\n",
       "      <td>0</td>\n",
       "      <td>0</td>\n",
       "      <td>...</td>\n",
       "      <td>1.0</td>\n",
       "      <td>41.0</td>\n",
       "      <td>92.0</td>\n",
       "      <td>23.0</td>\n",
       "      <td>0.0</td>\n",
       "      <td>11.0</td>\n",
       "      <td>234.0</td>\n",
       "      <td>2017</td>\n",
       "      <td>7</td>\n",
       "      <td>2</td>\n",
       "    </tr>\n",
       "    <tr>\n",
       "      <th>6</th>\n",
       "      <td>3.0</td>\n",
       "      <td>4.0</td>\n",
       "      <td>0.0</td>\n",
       "      <td>17583</td>\n",
       "      <td>train</td>\n",
       "      <td>3.0</td>\n",
       "      <td>9.0</td>\n",
       "      <td>1091463</td>\n",
       "      <td>0</td>\n",
       "      <td>0</td>\n",
       "      <td>...</td>\n",
       "      <td>22.0</td>\n",
       "      <td>37.0</td>\n",
       "      <td>504.0</td>\n",
       "      <td>40.0</td>\n",
       "      <td>4.0</td>\n",
       "      <td>7.0</td>\n",
       "      <td>776.0</td>\n",
       "      <td>2017</td>\n",
       "      <td>7</td>\n",
       "      <td>2</td>\n",
       "    </tr>\n",
       "    <tr>\n",
       "      <th>7</th>\n",
       "      <td>4.0</td>\n",
       "      <td>4.0</td>\n",
       "      <td>0.0</td>\n",
       "      <td>461128</td>\n",
       "      <td>train</td>\n",
       "      <td>3.0</td>\n",
       "      <td>4.0</td>\n",
       "      <td>469098</td>\n",
       "      <td>0</td>\n",
       "      <td>0</td>\n",
       "      <td>...</td>\n",
       "      <td>13.0</td>\n",
       "      <td>0.0</td>\n",
       "      <td>29.0</td>\n",
       "      <td>1.0</td>\n",
       "      <td>0.0</td>\n",
       "      <td>0.0</td>\n",
       "      <td>65.0</td>\n",
       "      <td>2017</td>\n",
       "      <td>7</td>\n",
       "      <td>2</td>\n",
       "    </tr>\n",
       "    <tr>\n",
       "      <th>8</th>\n",
       "      <td>3.0</td>\n",
       "      <td>2.0</td>\n",
       "      <td>0.0</td>\n",
       "      <td>390699</td>\n",
       "      <td>train</td>\n",
       "      <td>0.0</td>\n",
       "      <td>3.0</td>\n",
       "      <td>611906</td>\n",
       "      <td>0</td>\n",
       "      <td>0</td>\n",
       "      <td>...</td>\n",
       "      <td>1.0</td>\n",
       "      <td>0.0</td>\n",
       "      <td>12.0</td>\n",
       "      <td>3.0</td>\n",
       "      <td>0.0</td>\n",
       "      <td>6.0</td>\n",
       "      <td>54.0</td>\n",
       "      <td>2017</td>\n",
       "      <td>7</td>\n",
       "      <td>2</td>\n",
       "    </tr>\n",
       "    <tr>\n",
       "      <th>9</th>\n",
       "      <td>4.0</td>\n",
       "      <td>4.0</td>\n",
       "      <td>0.0</td>\n",
       "      <td>353607</td>\n",
       "      <td>train</td>\n",
       "      <td>3.0</td>\n",
       "      <td>4.0</td>\n",
       "      <td>418107</td>\n",
       "      <td>0</td>\n",
       "      <td>0</td>\n",
       "      <td>...</td>\n",
       "      <td>13.0</td>\n",
       "      <td>12.0</td>\n",
       "      <td>15.0</td>\n",
       "      <td>5.0</td>\n",
       "      <td>0.0</td>\n",
       "      <td>9.0</td>\n",
       "      <td>59.0</td>\n",
       "      <td>2017</td>\n",
       "      <td>7</td>\n",
       "      <td>2</td>\n",
       "    </tr>\n",
       "  </tbody>\n",
       "</table>\n",
       "<p>10 rows × 61 columns</p>\n",
       "</div>"
      ],
      "text/plain": [
       "   age_level  city_development_index  is_click  session_id source  user_depth  \\\n",
       "0        4.0                     3.0       0.0      140690  train         3.0   \n",
       "1        2.0                     2.0       0.0      333291  train         2.0   \n",
       "2        2.0                     2.0       0.0      129781  train         2.0   \n",
       "3        3.0                     2.0       0.0      464848  train         3.0   \n",
       "4        2.0                     2.0       0.0       90569  train         3.0   \n",
       "5        1.0                     2.0       0.0      151475  train         3.0   \n",
       "6        3.0                     4.0       0.0       17583  train         3.0   \n",
       "7        4.0                     4.0       0.0      461128  train         3.0   \n",
       "8        3.0                     2.0       0.0      390699  train         0.0   \n",
       "9        4.0                     4.0       0.0      353607  train         3.0   \n",
       "\n",
       "   user_group_id  user_id  var_1  product_0_x ...   product_5_y  product_6_y  \\\n",
       "0           10.0   858557      0            0 ...          40.0         10.0   \n",
       "1            8.0   243253      0            0 ...           3.0          1.0   \n",
       "2            8.0   243253      0            0 ...           3.0          1.0   \n",
       "3            3.0  1097446      1            0 ...           0.0          5.0   \n",
       "4            2.0   663656      1            0 ...           3.0          0.0   \n",
       "5            1.0   509591      0            0 ...           1.0         41.0   \n",
       "6            9.0  1091463      0            0 ...          22.0         37.0   \n",
       "7            4.0   469098      0            0 ...          13.0          0.0   \n",
       "8            3.0   611906      0            0 ...           1.0          0.0   \n",
       "9            4.0   418107      0            0 ...          13.0         12.0   \n",
       "\n",
       "   product_7_y  product_8_y  product_9_y  action_0  action_1  year  month  day  \n",
       "0         25.0          6.0          0.0       0.0     627.0  2017      7    2  \n",
       "1         35.0          0.0          0.0       0.0      62.0  2017      7    2  \n",
       "2         35.0          0.0          0.0       0.0      62.0  2017      7    2  \n",
       "3         15.0          9.0          0.0       2.0      41.0  2017      7    2  \n",
       "4         15.0          2.0          0.0       3.0      57.0  2017      7    2  \n",
       "5         92.0         23.0          0.0      11.0     234.0  2017      7    2  \n",
       "6        504.0         40.0          4.0       7.0     776.0  2017      7    2  \n",
       "7         29.0          1.0          0.0       0.0      65.0  2017      7    2  \n",
       "8         12.0          3.0          0.0       6.0      54.0  2017      7    2  \n",
       "9         15.0          5.0          0.0       9.0      59.0  2017      7    2  \n",
       "\n",
       "[10 rows x 61 columns]"
      ]
     },
     "execution_count": 32,
     "metadata": {},
     "output_type": "execute_result"
    }
   ],
   "source": [
    "df_train.head(10)"
   ]
  },
  {
   "cell_type": "code",
   "execution_count": 33,
   "metadata": {},
   "outputs": [
    {
     "data": {
      "text/plain": [
       "age_level                 float64\n",
       "city_development_index    float64\n",
       "is_click                  float64\n",
       "session_id                  int64\n",
       "source                     object\n",
       "user_depth                float64\n",
       "user_group_id             float64\n",
       "user_id                     int64\n",
       "var_1                       int64\n",
       "product_0_x                 uint8\n",
       "product_1_x                 uint8\n",
       "product_2_x                 uint8\n",
       "product_3_x                 uint8\n",
       "product_4_x                 uint8\n",
       "product_5_x                 uint8\n",
       "product_6_x                 uint8\n",
       "product_7_x                 uint8\n",
       "product_8_x                 uint8\n",
       "product_9_x                 uint8\n",
       "gender_0                    uint8\n",
       "gender_1                    uint8\n",
       "gender_2                    uint8\n",
       "campaign_id_0               uint8\n",
       "campaign_id_1               uint8\n",
       "campaign_id_2               uint8\n",
       "campaign_id_3               uint8\n",
       "campaign_id_4               uint8\n",
       "campaign_id_5               uint8\n",
       "campaign_id_6               uint8\n",
       "campaign_id_7               uint8\n",
       "                           ...   \n",
       "campaign_id_9               uint8\n",
       "product_category_1_0        uint8\n",
       "product_category_1_1        uint8\n",
       "product_category_1_2        uint8\n",
       "product_category_1_3        uint8\n",
       "product_category_1_4        uint8\n",
       "webpage_id_0                uint8\n",
       "webpage_id_1                uint8\n",
       "webpage_id_2                uint8\n",
       "webpage_id_3                uint8\n",
       "webpage_id_4                uint8\n",
       "webpage_id_5                uint8\n",
       "webpage_id_6                uint8\n",
       "webpage_id_7                uint8\n",
       "webpage_id_8                uint8\n",
       "product_0_y               float64\n",
       "product_1_y               float64\n",
       "product_2_y               float64\n",
       "product_3_y               float64\n",
       "product_4_y               float64\n",
       "product_5_y               float64\n",
       "product_6_y               float64\n",
       "product_7_y               float64\n",
       "product_8_y               float64\n",
       "product_9_y               float64\n",
       "action_0                  float64\n",
       "action_1                  float64\n",
       "year                        int64\n",
       "month                       int64\n",
       "day                         int64\n",
       "Length: 61, dtype: object"
      ]
     },
     "execution_count": 33,
     "metadata": {},
     "output_type": "execute_result"
    }
   ],
   "source": [
    "df_train.dtypes"
   ]
  },
  {
   "cell_type": "code",
   "execution_count": 34,
   "metadata": {
    "collapsed": true
   },
   "outputs": [],
   "source": [
    "columns = ['product_0_y','product_1_y','product_2_y','product_3_y','product_4_y','product_5_y','product_6_y','product_7_y','product_8_y','product_9_y','action_0','action_1']\n",
    "for col in columns:\n",
    "    df_train[col].fillna(df_train[col].median(),inplace=True)"
   ]
  },
  {
   "cell_type": "markdown",
   "metadata": {},
   "source": [
    "###### Seperating data"
   ]
  },
  {
   "cell_type": "code",
   "execution_count": 35,
   "metadata": {
    "collapsed": true
   },
   "outputs": [],
   "source": [
    "train = df_train.loc[df_train['source']=='train']\n",
    "test = df_train.loc[df_train['source']=='test']"
   ]
  },
  {
   "cell_type": "code",
   "execution_count": null,
   "metadata": {},
   "outputs": [],
   "source": [
    "train.drop('source',axis=1,inplace=True)\n",
    "test.drop(['source','is_click'],axis=1,inplace=True)"
   ]
  },
  {
   "cell_type": "code",
   "execution_count": 261,
   "metadata": {
    "collapsed": true
   },
   "outputs": [],
   "source": [
    "train.to_csv('train_modified.csv',index=False)\n",
    "test.to_csv('test_modified.csv',index=False)"
   ]
  },
  {
   "cell_type": "code",
   "execution_count": 37,
   "metadata": {},
   "outputs": [
    {
     "data": {
      "text/html": [
       "<div>\n",
       "<style scoped>\n",
       "    .dataframe tbody tr th:only-of-type {\n",
       "        vertical-align: middle;\n",
       "    }\n",
       "\n",
       "    .dataframe tbody tr th {\n",
       "        vertical-align: top;\n",
       "    }\n",
       "\n",
       "    .dataframe thead th {\n",
       "        text-align: right;\n",
       "    }\n",
       "</style>\n",
       "<table border=\"1\" class=\"dataframe\">\n",
       "  <thead>\n",
       "    <tr style=\"text-align: right;\">\n",
       "      <th></th>\n",
       "      <th>age_level</th>\n",
       "      <th>city_development_index</th>\n",
       "      <th>is_click</th>\n",
       "      <th>session_id</th>\n",
       "      <th>user_depth</th>\n",
       "      <th>user_group_id</th>\n",
       "      <th>user_id</th>\n",
       "      <th>var_1</th>\n",
       "      <th>product_0_x</th>\n",
       "      <th>product_1_x</th>\n",
       "      <th>...</th>\n",
       "      <th>product_5_y</th>\n",
       "      <th>product_6_y</th>\n",
       "      <th>product_7_y</th>\n",
       "      <th>product_8_y</th>\n",
       "      <th>product_9_y</th>\n",
       "      <th>action_0</th>\n",
       "      <th>action_1</th>\n",
       "      <th>year</th>\n",
       "      <th>month</th>\n",
       "      <th>day</th>\n",
       "    </tr>\n",
       "  </thead>\n",
       "  <tbody>\n",
       "    <tr>\n",
       "      <th>0</th>\n",
       "      <td>4.0</td>\n",
       "      <td>3.0</td>\n",
       "      <td>0.0</td>\n",
       "      <td>140690</td>\n",
       "      <td>3.0</td>\n",
       "      <td>10.0</td>\n",
       "      <td>858557</td>\n",
       "      <td>0</td>\n",
       "      <td>0</td>\n",
       "      <td>0</td>\n",
       "      <td>...</td>\n",
       "      <td>40.0</td>\n",
       "      <td>10.0</td>\n",
       "      <td>25.0</td>\n",
       "      <td>6.0</td>\n",
       "      <td>0.0</td>\n",
       "      <td>0.0</td>\n",
       "      <td>627.0</td>\n",
       "      <td>2017</td>\n",
       "      <td>7</td>\n",
       "      <td>2</td>\n",
       "    </tr>\n",
       "    <tr>\n",
       "      <th>1</th>\n",
       "      <td>2.0</td>\n",
       "      <td>2.0</td>\n",
       "      <td>0.0</td>\n",
       "      <td>333291</td>\n",
       "      <td>2.0</td>\n",
       "      <td>8.0</td>\n",
       "      <td>243253</td>\n",
       "      <td>0</td>\n",
       "      <td>0</td>\n",
       "      <td>0</td>\n",
       "      <td>...</td>\n",
       "      <td>3.0</td>\n",
       "      <td>1.0</td>\n",
       "      <td>35.0</td>\n",
       "      <td>0.0</td>\n",
       "      <td>0.0</td>\n",
       "      <td>0.0</td>\n",
       "      <td>62.0</td>\n",
       "      <td>2017</td>\n",
       "      <td>7</td>\n",
       "      <td>2</td>\n",
       "    </tr>\n",
       "    <tr>\n",
       "      <th>2</th>\n",
       "      <td>2.0</td>\n",
       "      <td>2.0</td>\n",
       "      <td>0.0</td>\n",
       "      <td>129781</td>\n",
       "      <td>2.0</td>\n",
       "      <td>8.0</td>\n",
       "      <td>243253</td>\n",
       "      <td>0</td>\n",
       "      <td>0</td>\n",
       "      <td>0</td>\n",
       "      <td>...</td>\n",
       "      <td>3.0</td>\n",
       "      <td>1.0</td>\n",
       "      <td>35.0</td>\n",
       "      <td>0.0</td>\n",
       "      <td>0.0</td>\n",
       "      <td>0.0</td>\n",
       "      <td>62.0</td>\n",
       "      <td>2017</td>\n",
       "      <td>7</td>\n",
       "      <td>2</td>\n",
       "    </tr>\n",
       "    <tr>\n",
       "      <th>3</th>\n",
       "      <td>3.0</td>\n",
       "      <td>2.0</td>\n",
       "      <td>0.0</td>\n",
       "      <td>464848</td>\n",
       "      <td>3.0</td>\n",
       "      <td>3.0</td>\n",
       "      <td>1097446</td>\n",
       "      <td>1</td>\n",
       "      <td>0</td>\n",
       "      <td>0</td>\n",
       "      <td>...</td>\n",
       "      <td>0.0</td>\n",
       "      <td>5.0</td>\n",
       "      <td>15.0</td>\n",
       "      <td>9.0</td>\n",
       "      <td>0.0</td>\n",
       "      <td>2.0</td>\n",
       "      <td>41.0</td>\n",
       "      <td>2017</td>\n",
       "      <td>7</td>\n",
       "      <td>2</td>\n",
       "    </tr>\n",
       "    <tr>\n",
       "      <th>4</th>\n",
       "      <td>2.0</td>\n",
       "      <td>2.0</td>\n",
       "      <td>0.0</td>\n",
       "      <td>90569</td>\n",
       "      <td>3.0</td>\n",
       "      <td>2.0</td>\n",
       "      <td>663656</td>\n",
       "      <td>1</td>\n",
       "      <td>0</td>\n",
       "      <td>0</td>\n",
       "      <td>...</td>\n",
       "      <td>3.0</td>\n",
       "      <td>0.0</td>\n",
       "      <td>15.0</td>\n",
       "      <td>2.0</td>\n",
       "      <td>0.0</td>\n",
       "      <td>3.0</td>\n",
       "      <td>57.0</td>\n",
       "      <td>2017</td>\n",
       "      <td>7</td>\n",
       "      <td>2</td>\n",
       "    </tr>\n",
       "  </tbody>\n",
       "</table>\n",
       "<p>5 rows × 60 columns</p>\n",
       "</div>"
      ],
      "text/plain": [
       "   age_level  city_development_index  is_click  session_id  user_depth  \\\n",
       "0        4.0                     3.0       0.0      140690         3.0   \n",
       "1        2.0                     2.0       0.0      333291         2.0   \n",
       "2        2.0                     2.0       0.0      129781         2.0   \n",
       "3        3.0                     2.0       0.0      464848         3.0   \n",
       "4        2.0                     2.0       0.0       90569         3.0   \n",
       "\n",
       "   user_group_id  user_id  var_1  product_0_x  product_1_x ...   product_5_y  \\\n",
       "0           10.0   858557      0            0            0 ...          40.0   \n",
       "1            8.0   243253      0            0            0 ...           3.0   \n",
       "2            8.0   243253      0            0            0 ...           3.0   \n",
       "3            3.0  1097446      1            0            0 ...           0.0   \n",
       "4            2.0   663656      1            0            0 ...           3.0   \n",
       "\n",
       "   product_6_y  product_7_y  product_8_y  product_9_y  action_0  action_1  \\\n",
       "0         10.0         25.0          6.0          0.0       0.0     627.0   \n",
       "1          1.0         35.0          0.0          0.0       0.0      62.0   \n",
       "2          1.0         35.0          0.0          0.0       0.0      62.0   \n",
       "3          5.0         15.0          9.0          0.0       2.0      41.0   \n",
       "4          0.0         15.0          2.0          0.0       3.0      57.0   \n",
       "\n",
       "   year  month  day  \n",
       "0  2017      7    2  \n",
       "1  2017      7    2  \n",
       "2  2017      7    2  \n",
       "3  2017      7    2  \n",
       "4  2017      7    2  \n",
       "\n",
       "[5 rows x 60 columns]"
      ]
     },
     "execution_count": 37,
     "metadata": {},
     "output_type": "execute_result"
    }
   ],
   "source": [
    "train.head()"
   ]
  },
  {
   "cell_type": "code",
   "execution_count": null,
   "metadata": {
    "collapsed": true
   },
   "outputs": [],
   "source": []
  },
  {
   "cell_type": "markdown",
   "metadata": {},
   "source": [
    "##### gbm"
   ]
  },
  {
   "cell_type": "code",
   "execution_count": null,
   "metadata": {
    "collapsed": true
   },
   "outputs": [],
   "source": []
  },
  {
   "cell_type": "code",
   "execution_count": null,
   "metadata": {},
   "outputs": [],
   "source": [
    "import pandas as pd\n",
    "import numpy as np\n",
    "from sklearn.ensemble import GradientBoostingClassifier\n",
    "from sklearn import cross_validation, metrics\n",
    "from sklearn.grid_search import GridSearchCV\n",
    "\n",
    "import matplotlib.pylab as plt\n",
    "%matplotlib inline\n",
    "from matplotlib.pylab import rcParams\n",
    "rcParams['figure.figsize'] = 13, 5"
   ]
  },
  {
   "cell_type": "code",
   "execution_count": 39,
   "metadata": {
    "collapsed": true
   },
   "outputs": [],
   "source": [
    "def modelfit(alg, dtrain, dtest, predictors, performCV=True, printFeatureImportance=True, cv_folds=5):\n",
    "    #Fit the algorithm on the data\n",
    "    model = alg.fit(dtrain[predictors], dtrain['is_click'])\n",
    "        \n",
    "    #Predict training set:\n",
    "    dtrain_predictions = model.predict(dtrain[predictors])\n",
    "    dtrain_predprob = model.predict_proba(dtrain[predictors])[:,1]\n",
    "    \n",
    "    #Perform cross-validation:\n",
    "    if performCV:\n",
    "        cv_score = cross_validation.cross_val_score(model, dtrain[predictors], dtrain['is_click'], cv=cv_folds, scoring='roc_auc')\n",
    "    \n",
    "    #Print model report:\n",
    "    print(\"\\nModel Report\")\n",
    "    print(\"Accuracy : %.4g\" % metrics.accuracy_score(dtrain['is_click'].values, dtrain_predictions))\n",
    "    print (\"AUC Score (Train): %f\" % metrics.roc_auc_score(dtrain['is_click'], dtrain_predprob))\n",
    "    \n",
    "    if performCV:\n",
    "        print( \"CV Score : Mean - %.7g | Std - %.7g | Min - %.7g | Max - %.7g\" % (np.mean(cv_score),np.std(cv_score),np.min(cv_score),np.max(cv_score)))\n",
    "                \n",
    "    #Print Feature Importance:\n",
    "    if printFeatureImportance:\n",
    "        feat_imp = pd.Series(model.feature_importances_, predictors).sort_values(ascending=False)\n",
    "        feat_imp.plot(kind='bar', title='Feature Importances')\n",
    "        plt.ylabel('Feature Importance Score')"
   ]
  },
  {
   "cell_type": "code",
   "execution_count": 40,
   "metadata": {
    "collapsed": true
   },
   "outputs": [],
   "source": [
    "target = 'is_click'\n",
    "IDcol = 'session_id'"
   ]
  },
  {
   "cell_type": "code",
   "execution_count": 41,
   "metadata": {
    "collapsed": true
   },
   "outputs": [],
   "source": [
    "predictors = [x for x in train.columns if x not in [target, IDcol]]\n",
    "gbm0 = GradientBoostingClassifier(random_state=10)\n",
    "# modelfit(gbm0, train, test, predictors)"
   ]
  },
  {
   "cell_type": "code",
   "execution_count": null,
   "metadata": {
    "collapsed": true
   },
   "outputs": [],
   "source": []
  },
  {
   "cell_type": "code",
   "execution_count": 42,
   "metadata": {
    "collapsed": true
   },
   "outputs": [],
   "source": [
    "model = gbm0.fit(train[predictors], train[target])\n",
    "test_predictions = model.predict(test[predictors])\n",
    "#Print Feature Importance:\n"
   ]
  },
  {
   "cell_type": "code",
   "execution_count": 43,
   "metadata": {},
   "outputs": [
    {
     "data": {
      "text/plain": [
       "Text(0,0.5,'Feature Importance Score')"
      ]
     },
     "execution_count": 43,
     "metadata": {},
     "output_type": "execute_result"
    },
    {
     "data": {
      "image/png": "[encoded data removed]",
      "text/plain": [
       "<Figure size 936x360 with 1 Axes>"
      ]
     },
     "metadata": {},
     "output_type": "display_data"
    }
   ],
   "source": [
    "\n",
    "feat_imp = pd.Series(model.feature_importances_, predictors).sort_values(ascending=False)\n",
    "feat_imp.plot(kind='bar', title='Feature Importances')\n",
    "plt.ylabel('Feature Importance Score')"
   ]
  },
  {
   "cell_type": "code",
   "execution_count": 44,
   "metadata": {
    "collapsed": true,
    "scrolled": true
   },
   "outputs": [],
   "source": [
    "predprob = model.predict_proba(test[predictors])[:,1]"
   ]
  },
  {
   "cell_type": "code",
   "execution_count": 45,
   "metadata": {},
   "outputs": [
    {
     "data": {
      "text/plain": [
       "array([0.08606939, 0.06148405, 0.05322171, ..., 0.05002304, 0.06339646,\n",
       "       0.05825103])"
      ]
     },
     "execution_count": 45,
     "metadata": {},
     "output_type": "execute_result"
    }
   ],
   "source": [
    "predprob"
   ]
  },
  {
   "cell_type": "code",
   "execution_count": 46,
   "metadata": {},
   "outputs": [
    {
     "data": {
      "text/plain": [
       "128858"
      ]
     },
     "execution_count": 46,
     "metadata": {},
     "output_type": "execute_result"
    }
   ],
   "source": [
    "len(predprob)"
   ]
  },
  {
   "cell_type": "code",
   "execution_count": 47,
   "metadata": {},
   "outputs": [
    {
     "data": {
      "text/plain": [
       "128858"
      ]
     },
     "execution_count": 47,
     "metadata": {},
     "output_type": "execute_result"
    }
   ],
   "source": [
    "len(test['session_id'])"
   ]
  },
  {
   "cell_type": "code",
   "execution_count": 48,
   "metadata": {
    "collapsed": true
   },
   "outputs": [],
   "source": [
    "predd = pd.DataFrame(predprob)"
   ]
  },
  {
   "cell_type": "code",
   "execution_count": 49,
   "metadata": {
    "collapsed": true
   },
   "outputs": [],
   "source": [
    "last_df = test['session_id'].reset_index()"
   ]
  },
  {
   "cell_type": "code",
   "execution_count": 50,
   "metadata": {
    "collapsed": true
   },
   "outputs": [],
   "source": [
    "last_df= last_df.drop(['index'], axis=1)"
   ]
  },
  {
   "cell_type": "code",
   "execution_count": 51,
   "metadata": {
    "collapsed": true
   },
   "outputs": [],
   "source": [
    "sub_file = pd.concat([last_df,predd], axis=1,ignore_index=False ).rename(columns = {0:'is_click'})"
   ]
  },
  {
   "cell_type": "code",
   "execution_count": 52,
   "metadata": {},
   "outputs": [
    {
     "data": {
      "text/html": [
       "<div>\n",
       "<style scoped>\n",
       "    .dataframe tbody tr th:only-of-type {\n",
       "        vertical-align: middle;\n",
       "    }\n",
       "\n",
       "    .dataframe tbody tr th {\n",
       "        vertical-align: top;\n",
       "    }\n",
       "\n",
       "    .dataframe thead th {\n",
       "        text-align: right;\n",
       "    }\n",
       "</style>\n",
       "<table border=\"1\" class=\"dataframe\">\n",
       "  <thead>\n",
       "    <tr style=\"text-align: right;\">\n",
       "      <th></th>\n",
       "      <th>session_id</th>\n",
       "      <th>is_click</th>\n",
       "    </tr>\n",
       "  </thead>\n",
       "  <tbody>\n",
       "    <tr>\n",
       "      <th>0</th>\n",
       "      <td>411705</td>\n",
       "      <td>0.086069</td>\n",
       "    </tr>\n",
       "    <tr>\n",
       "      <th>1</th>\n",
       "      <td>208263</td>\n",
       "      <td>0.061484</td>\n",
       "    </tr>\n",
       "    <tr>\n",
       "      <th>2</th>\n",
       "      <td>239450</td>\n",
       "      <td>0.053222</td>\n",
       "    </tr>\n",
       "    <tr>\n",
       "      <th>3</th>\n",
       "      <td>547761</td>\n",
       "      <td>0.044287</td>\n",
       "    </tr>\n",
       "    <tr>\n",
       "      <th>4</th>\n",
       "      <td>574275</td>\n",
       "      <td>0.073061</td>\n",
       "    </tr>\n",
       "  </tbody>\n",
       "</table>\n",
       "</div>"
      ],
      "text/plain": [
       "   session_id  is_click\n",
       "0      411705  0.086069\n",
       "1      208263  0.061484\n",
       "2      239450  0.053222\n",
       "3      547761  0.044287\n",
       "4      574275  0.073061"
      ]
     },
     "execution_count": 52,
     "metadata": {},
     "output_type": "execute_result"
    }
   ],
   "source": [
    "sub_file.head()"
   ]
  },
  {
   "cell_type": "code",
   "execution_count": 53,
   "metadata": {
    "collapsed": true
   },
   "outputs": [],
   "source": [
    "sub_file.to_csv('submission2.csv',index=False)"
   ]
  },
  {
   "cell_type": "code",
   "execution_count": null,
   "metadata": {
    "collapsed": true
   },
   "outputs": [],
   "source": []
  }
 ],
 "metadata": {
  "kernelspec": {
   "display_name": "Python 3",
   "language": "python",
   "name": "python3"
  },
  "language_info": {
   "codemirror_mode": {
    "name": "ipython",
    "version": 3
   },
   "file_extension": ".py",
   "mimetype": "text/x-python",
   "name": "python",
   "nbconvert_exporter": "python",
   "pygments_lexer": "ipython3",
   "version": "3.6.2"
  }
 },
 "nbformat": 4,
 "nbformat_minor": 2
}
